{
  "nbformat": 4,
  "nbformat_minor": 0,
  "metadata": {
    "colab": {
      "name": "python1",
      "provenance": [],
      "collapsed_sections": []
    },
    "kernelspec": {
      "name": "python3",
      "display_name": "Python 3"
    },
    "language_info": {
      "name": "python"
    }
  },
  "cells": [
    {
      "cell_type": "code",
      "execution_count": null,
      "metadata": {
        "colab": {
          "base_uri": "https://localhost:8080/",
          "height": 35
        },
        "id": "nPfRXV31X3-S",
        "outputId": "3c18973f-58d0-47e7-9887-a6f741a3ad14"
      },
      "outputs": [
        {
          "output_type": "execute_result",
          "data": {
            "text/plain": [
              "'Archana'"
            ],
            "application/vnd.google.colaboratory.intrinsic+json": {
              "type": "string"
            }
          },
          "metadata": {},
          "execution_count": 6
        }
      ],
      "source": [
        "a=5\n",
        "a\n",
        "Name=\"Archana\"\n",
        "Name\n",
        "\n"
      ]
    },
    {
      "cell_type": "code",
      "source": [
        "a=5\n",
        "a\n",
        "b=\"5\"\n",
        "#5 is number\n",
        "#\"3\" is string"
      ],
      "metadata": {
        "id": "g3psh0bTcmx_"
      },
      "execution_count": 2,
      "outputs": []
    },
    {
      "cell_type": "code",
      "source": [
        ""
      ],
      "metadata": {
        "id": "LRmdaD1SdryJ"
      },
      "execution_count": null,
      "outputs": []
    },
    {
      "cell_type": "code",
      "source": [
        "a=5\n",
        "print(a)\n",
        "Name=\"Archana\"\n",
        "Name"
      ],
      "metadata": {
        "colab": {
          "base_uri": "https://localhost:8080/",
          "height": 54
        },
        "id": "svzQa8EodBoA",
        "outputId": "3a1e0911-c2e1-4468-d0e6-29cf4c04c3a2"
      },
      "execution_count": null,
      "outputs": [
        {
          "output_type": "stream",
          "name": "stdout",
          "text": [
            "5\n"
          ]
        },
        {
          "output_type": "execute_result",
          "data": {
            "text/plain": [
              "'Archana'"
            ],
            "application/vnd.google.colaboratory.intrinsic+json": {
              "type": "string"
            }
          },
          "metadata": {},
          "execution_count": 5
        }
      ]
    },
    {
      "cell_type": "code",
      "source": [
        "\"\"\"hshfcdsiusuo\n",
        "csiycsiduids\n",
        "csichmn9cmso9c9u\"\"\""
      ],
      "metadata": {
        "colab": {
          "base_uri": "https://localhost:8080/",
          "height": 35
        },
        "id": "kAN7fl4sAD5X",
        "outputId": "5dd26c2a-b6c6-4bba-c6d9-74eadf0322b7"
      },
      "execution_count": 1,
      "outputs": [
        {
          "output_type": "execute_result",
          "data": {
            "text/plain": [
              "'hshfcdsiusuo\\ncsiycsiduids\\ncsichmn9cmso9c9u'"
            ],
            "application/vnd.google.colaboratory.intrinsic+json": {
              "type": "string"
            }
          },
          "metadata": {},
          "execution_count": 1
        }
      ]
    },
    {
      "cell_type": "code",
      "source": [
        "a=5\n",
        "Name=\"Archana\"\n",
        "Clg=\"I an from SPC\"\n",
        "City=\"SPC is in Pune\"\n",
        "\n",
        "print(a)\n",
        "print(Name)\n",
        "print(Clg)\n",
        "print(City)\n"
      ],
      "metadata": {
        "colab": {
          "base_uri": "https://localhost:8080/"
        },
        "id": "ipuUjBHbgqnI",
        "outputId": "11fc4105-9bcb-435f-c06c-5ed36557a36b"
      },
      "execution_count": null,
      "outputs": [
        {
          "output_type": "stream",
          "name": "stdout",
          "text": [
            "5\n",
            "Archana\n",
            "I an from SPC\n",
            "SPC is in Pune\n"
          ]
        }
      ]
    },
    {
      "cell_type": "code",
      "source": [
        "a,b=3.1432,7.98214\n",
        "print(\"Addition=\",a+b)\n",
        "print(\"Subrtraction=\",a-b)\n",
        "print(\"Multiplication=\",a*b)\n",
        "print(\"Division=\",a/b)\n",
        "print(\"Power=\",a**b)\n",
        "print(\"Modulus=\",a%b)\n",
        "print(\"Floor division=\",a//b)"
      ],
      "metadata": {
        "colab": {
          "base_uri": "https://localhost:8080/"
        },
        "id": "2G6YZNtDAaIr",
        "outputId": "a60da349-6f43-4b82-8a51-68d61823badc"
      },
      "execution_count": 1,
      "outputs": [
        {
          "output_type": "stream",
          "name": "stdout",
          "text": [
            "Addition= 11.125340000000001\n",
            "Subrtraction= -4.83894\n",
            "Multiplication= 25.089462448000003\n",
            "Division= 0.3937791118672436\n",
            "Power= 9334.543034079248\n",
            "Modulus= 3.1432\n",
            "Floor division= 0.0\n"
          ]
        }
      ]
    }
  ]
}