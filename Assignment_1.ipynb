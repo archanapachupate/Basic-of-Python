{
  "nbformat": 4,
  "nbformat_minor": 0,
  "metadata": {
    "colab": {
      "name": "Assignment 1",
      "provenance": [],
      "collapsed_sections": []
    },
    "kernelspec": {
      "name": "python3",
      "display_name": "Python 3"
    },
    "language_info": {
      "name": "python"
    }
  },
  "cells": [
    {
      "cell_type": "code",
      "execution_count": 7,
      "metadata": {
        "id": "aYM3uYAwmRYh",
        "colab": {
          "base_uri": "https://localhost:8080/"
        },
        "outputId": "c61c7f46-6ea1-4ad0-cd06-c47d1e68be43"
      },
      "outputs": [
        {
          "output_type": "stream",
          "name": "stdout",
          "text": [
            "Archana Pachupate\n",
            "9138\n"
          ]
        }
      ],
      "source": [
        "Name=\"Archana Pachupate\"\n",
        "Roll_Number=9138\n",
        "print(Name)\n",
        "print(Roll_Number)"
      ]
    },
    {
      "cell_type": "code",
      "source": [
        "A=[\"Archana Pachupate\",\"Age=20\",\"Village=Satara\"]\n",
        "B=[\"TY BSc Stat\",\"Sir Parashuram Bhau College\",\"Tilak Road\",\"Pune\"]\n",
        "print(type(A))\n",
        "print(type(B))"
      ],
      "metadata": {
        "colab": {
          "base_uri": "https://localhost:8080/"
        },
        "id": "2hdlXd2KDEBk",
        "outputId": "490a9dcd-28df-47f7-e318-b09ed2d698ea"
      },
      "execution_count": 8,
      "outputs": [
        {
          "output_type": "stream",
          "name": "stdout",
          "text": [
            "<class 'list'>\n",
            "<class 'list'>\n"
          ]
        }
      ]
    },
    {
      "cell_type": "code",
      "source": [
        "print(A[2])"
      ],
      "metadata": {
        "colab": {
          "base_uri": "https://localhost:8080/"
        },
        "id": "v0oXlrs3FWaF",
        "outputId": "215918d0-d26c-4185-938a-2149c7c7b72a"
      },
      "execution_count": 9,
      "outputs": [
        {
          "output_type": "stream",
          "name": "stdout",
          "text": [
            "Village=Satara\n"
          ]
        }
      ]
    },
    {
      "cell_type": "code",
      "source": [
        "print(A[:3] )\n",
        "print(A[2:])\n",
        "print(A[0:2])\n",
        "print(A[:-1] )"
      ],
      "metadata": {
        "colab": {
          "base_uri": "https://localhost:8080/"
        },
        "id": "AaoKrv-Sjvz5",
        "outputId": "ae897670-8b9f-4d42-b95d-d507bdf57241"
      },
      "execution_count": 10,
      "outputs": [
        {
          "output_type": "stream",
          "name": "stdout",
          "text": [
            "['Archana Pachupate', 'Age=20', 'Village=Satara']\n",
            "['Village=Satara']\n",
            "['Archana Pachupate', 'Age=20']\n",
            "['Archana Pachupate', 'Age=20']\n"
          ]
        }
      ]
    },
    {
      "cell_type": "code",
      "source": [
        "A[1]=\"Age=20 yrs\"\n",
        "print(A)"
      ],
      "metadata": {
        "colab": {
          "base_uri": "https://localhost:8080/"
        },
        "id": "HVhVOvgjkbdW",
        "outputId": "c3dc0302-30f9-4013-ffa6-f07fb912b52e"
      },
      "execution_count": 11,
      "outputs": [
        {
          "output_type": "stream",
          "name": "stdout",
          "text": [
            "['Archana Pachupate', 'Age=20 yrs', 'Village=Satara']\n"
          ]
        }
      ]
    },
    {
      "cell_type": "code",
      "source": [
        "A.append(\"MH 11\")\n",
        "print(A)"
      ],
      "metadata": {
        "colab": {
          "base_uri": "https://localhost:8080/"
        },
        "id": "aEiFW2KPFjAN",
        "outputId": "eac4c23c-997f-416c-b773-68c931c6b444"
      },
      "execution_count": null,
      "outputs": [
        {
          "output_type": "stream",
          "name": "stdout",
          "text": [
            "['Archana Pachupate', 'Age=20', 'Village=Satara', 'MH 11']\n"
          ]
        }
      ]
    },
    {
      "cell_type": "code",
      "source": [
        "A.extend(\"Student\")\n",
        "print(A)"
      ],
      "metadata": {
        "id": "lOagV-YhHDJP",
        "colab": {
          "base_uri": "https://localhost:8080/"
        },
        "outputId": "1d27bd1e-241b-4b8b-fac7-eaa064e0175a"
      },
      "execution_count": null,
      "outputs": [
        {
          "output_type": "stream",
          "name": "stdout",
          "text": [
            "['Archana Pachupate', 'Age=20', 'Village=Satara', 'S', 't', 'u', 'd', 'e', 'n', 't']\n"
          ]
        }
      ]
    },
    {
      "cell_type": "code",
      "source": [
        "x=A.count(\"Archana Pachupate\")\n",
        "print(x)"
      ],
      "metadata": {
        "colab": {
          "base_uri": "https://localhost:8080/"
        },
        "id": "-_sCt96yl3Xt",
        "outputId": "bd2788db-a847-42a9-bda0-96f68f42c1e1"
      },
      "execution_count": 12,
      "outputs": [
        {
          "output_type": "stream",
          "name": "stdout",
          "text": [
            "1\n"
          ]
        }
      ]
    },
    {
      "cell_type": "code",
      "source": [
        "y=A.index(\"Archana Pachupate\")\n",
        "print(y)"
      ],
      "metadata": {
        "colab": {
          "base_uri": "https://localhost:8080/"
        },
        "id": "q-P_1JiEnJfj",
        "outputId": "c09fb73c-c976-4eaa-a000-87307a2d4d04"
      },
      "execution_count": 15,
      "outputs": [
        {
          "output_type": "stream",
          "name": "stdout",
          "text": [
            "0\n"
          ]
        }
      ]
    },
    {
      "cell_type": "code",
      "source": [
        "print(len(A))"
      ],
      "metadata": {
        "colab": {
          "base_uri": "https://localhost:8080/"
        },
        "id": "pb-MkSOCn64-",
        "outputId": "63250297-8443-4662-d0aa-925d49322879"
      },
      "execution_count": 16,
      "outputs": [
        {
          "output_type": "stream",
          "name": "stdout",
          "text": [
            "3\n"
          ]
        }
      ]
    },
    {
      "cell_type": "code",
      "source": [
        "A.sort()\n",
        "print(A)"
      ],
      "metadata": {
        "colab": {
          "base_uri": "https://localhost:8080/"
        },
        "id": "PFSTrPstpu6I",
        "outputId": "90a24c95-44ec-4a8a-da9d-20e785eabe7a"
      },
      "execution_count": 17,
      "outputs": [
        {
          "output_type": "stream",
          "name": "stdout",
          "text": [
            "['Age=20 yrs', 'Archana Pachupate', 'Village=Satara']\n"
          ]
        }
      ]
    },
    {
      "cell_type": "code",
      "source": [
        "A1=A.copy()\n",
        "print(A1)"
      ],
      "metadata": {
        "id": "_b7A3tGE_R1e",
        "colab": {
          "base_uri": "https://localhost:8080/"
        },
        "outputId": "7d6e94af-0ff7-4655-9022-077cb5eaa260"
      },
      "execution_count": null,
      "outputs": [
        {
          "output_type": "stream",
          "name": "stdout",
          "text": [
            "['Archana Pachupate', 'Age=20', 'Village=Satara', 'S', 't', 'u', 'd', 'e', 'n', 't']\n"
          ]
        }
      ]
    },
    {
      "cell_type": "code",
      "source": [
        "A1.clear()\n",
        "print(A1)"
      ],
      "metadata": {
        "colab": {
          "base_uri": "https://localhost:8080/"
        },
        "id": "OM48uCTTAd2P",
        "outputId": "94146af5-c158-42b5-bdc9-4971a5305c5a"
      },
      "execution_count": null,
      "outputs": [
        {
          "output_type": "stream",
          "name": "stdout",
          "text": [
            "[]\n"
          ]
        }
      ]
    },
    {
      "cell_type": "code",
      "source": [
        "A2=(\"Archana Pachupate\",\"Age=20\",\"Village=Satara\")\n",
        "B2=(\"TY BSc Stat\",\"Sir Parashuram Bhau College\",\"Tilak Road\",\"Pune\")\n",
        "print(type(A2))\n",
        "print(type(B2))"
      ],
      "metadata": {
        "id": "nf4V73jRAmaR",
        "colab": {
          "base_uri": "https://localhost:8080/"
        },
        "outputId": "fe52fd92-e89c-4fdd-e777-56bd37c81140"
      },
      "execution_count": 18,
      "outputs": [
        {
          "output_type": "stream",
          "name": "stdout",
          "text": [
            "<class 'tuple'>\n",
            "<class 'tuple'>\n"
          ]
        }
      ]
    },
    {
      "cell_type": "code",
      "source": [
        "print(A2[2])"
      ],
      "metadata": {
        "colab": {
          "base_uri": "https://localhost:8080/"
        },
        "id": "JU8mqZZrh4uv",
        "outputId": "2489559e-fe1e-4139-e5f2-1112b3912bf1"
      },
      "execution_count": 19,
      "outputs": [
        {
          "output_type": "stream",
          "name": "stdout",
          "text": [
            "Village=Satara\n"
          ]
        }
      ]
    },
    {
      "cell_type": "code",
      "source": [
        "print(A2[0])\n",
        "print(A2[2:])\n",
        "print(A2[:3])\n",
        "print(B2[-1])\n",
        "print(B2[-4:])\n",
        "print(B2[:-3])"
      ],
      "metadata": {
        "colab": {
          "base_uri": "https://localhost:8080/"
        },
        "id": "frAVQt90qWrj",
        "outputId": "b73b2d26-cbb4-4492-d8b6-ec3d4b88e749"
      },
      "execution_count": 21,
      "outputs": [
        {
          "output_type": "stream",
          "name": "stdout",
          "text": [
            "Archana Pachupate\n",
            "('Village=Satara',)\n",
            "('Archana Pachupate', 'Age=20', 'Village=Satara')\n",
            "Pune\n",
            "('TY BSc Stat', 'Sir Parashuram Bhau College', 'Tilak Road', 'Pune')\n",
            "('TY BSc Stat',)\n"
          ]
        }
      ]
    },
    {
      "cell_type": "code",
      "source": [
        "if \"Archana Pachupate\" in A2:\n",
        "    print(\"Archana Pachupate is listed in A2\")\n",
        "print('Archana Pachupate' in A2)"
      ],
      "metadata": {
        "colab": {
          "base_uri": "https://localhost:8080/"
        },
        "id": "-VbDtKK3rQ_L",
        "outputId": "f2d7af03-7c9f-4f60-bf5d-8ae8c7d69666"
      },
      "execution_count": 22,
      "outputs": [
        {
          "output_type": "stream",
          "name": "stdout",
          "text": [
            "Archana Pachupate is listed in A2\n",
            "True\n"
          ]
        }
      ]
    },
    {
      "cell_type": "code",
      "source": [
        "x=A2.count(\"Archana Pachupate\")\n",
        "print(x)"
      ],
      "metadata": {
        "colab": {
          "base_uri": "https://localhost:8080/"
        },
        "id": "NYIo9rKDr9b5",
        "outputId": "d93bf328-ec53-4e8e-a0ff-680b0f700d5a"
      },
      "execution_count": 23,
      "outputs": [
        {
          "output_type": "stream",
          "name": "stdout",
          "text": [
            "1\n"
          ]
        }
      ]
    },
    {
      "cell_type": "code",
      "source": [
        "y=A2.index(\"Archana Pachupate\")\n",
        "print(y)"
      ],
      "metadata": {
        "colab": {
          "base_uri": "https://localhost:8080/"
        },
        "id": "4fmQ6zt6sPOf",
        "outputId": "5e46b611-3d9a-4173-a2be-aa2955a98b22"
      },
      "execution_count": 24,
      "outputs": [
        {
          "output_type": "stream",
          "name": "stdout",
          "text": [
            "0\n"
          ]
        }
      ]
    },
    {
      "cell_type": "code",
      "source": [
        "A1=A2.copy()\n",
        "print(A1)"
      ],
      "metadata": {
        "colab": {
          "base_uri": "https://localhost:8080/",
          "height": 189
        },
        "id": "I3X5Bu50sei3",
        "outputId": "75495e28-db4d-4fb1-db16-693ba55150e8"
      },
      "execution_count": 25,
      "outputs": [
        {
          "output_type": "error",
          "ename": "AttributeError",
          "evalue": "ignored",
          "traceback": [
            "\u001b[0;31m---------------------------------------------------------------------------\u001b[0m",
            "\u001b[0;31mAttributeError\u001b[0m                            Traceback (most recent call last)",
            "\u001b[0;32m<ipython-input-25-603fb14baeb0>\u001b[0m in \u001b[0;36m<module>\u001b[0;34m()\u001b[0m\n\u001b[0;32m----> 1\u001b[0;31m \u001b[0mA1\u001b[0m\u001b[0;34m=\u001b[0m\u001b[0mA2\u001b[0m\u001b[0;34m.\u001b[0m\u001b[0mcopy\u001b[0m\u001b[0;34m(\u001b[0m\u001b[0;34m)\u001b[0m\u001b[0;34m\u001b[0m\u001b[0;34m\u001b[0m\u001b[0m\n\u001b[0m\u001b[1;32m      2\u001b[0m \u001b[0mprint\u001b[0m\u001b[0;34m(\u001b[0m\u001b[0mA1\u001b[0m\u001b[0;34m)\u001b[0m\u001b[0;34m\u001b[0m\u001b[0;34m\u001b[0m\u001b[0m\n",
            "\u001b[0;31mAttributeError\u001b[0m: 'tuple' object has no attribute 'copy'"
          ]
        }
      ]
    },
    {
      "cell_type": "code",
      "source": [
        "A2.append(\"MH 11\")\n",
        "print(A2)"
      ],
      "metadata": {
        "colab": {
          "base_uri": "https://localhost:8080/",
          "height": 189
        },
        "id": "uhuRW3-KiGD7",
        "outputId": "cbba432a-cec1-4a25-bd41-85b403cde765"
      },
      "execution_count": 3,
      "outputs": [
        {
          "output_type": "error",
          "ename": "AttributeError",
          "evalue": "ignored",
          "traceback": [
            "\u001b[0;31m---------------------------------------------------------------------------\u001b[0m",
            "\u001b[0;31mAttributeError\u001b[0m                            Traceback (most recent call last)",
            "\u001b[0;32m<ipython-input-3-91b7cd171008>\u001b[0m in \u001b[0;36m<module>\u001b[0;34m()\u001b[0m\n\u001b[0;32m----> 1\u001b[0;31m \u001b[0mA\u001b[0m\u001b[0;34m.\u001b[0m\u001b[0mappend\u001b[0m\u001b[0;34m(\u001b[0m\u001b[0;34m\"MH 11\"\u001b[0m\u001b[0;34m)\u001b[0m\u001b[0;34m\u001b[0m\u001b[0;34m\u001b[0m\u001b[0m\n\u001b[0m\u001b[1;32m      2\u001b[0m \u001b[0mprint\u001b[0m\u001b[0;34m(\u001b[0m\u001b[0mA\u001b[0m\u001b[0;34m)\u001b[0m\u001b[0;34m\u001b[0m\u001b[0;34m\u001b[0m\u001b[0m\n",
            "\u001b[0;31mAttributeError\u001b[0m: 'tuple' object has no attribute 'append'"
          ]
        }
      ]
    }
  ]
}