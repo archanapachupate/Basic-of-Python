{
  "nbformat": 4,
  "nbformat_minor": 0,
  "metadata": {
    "colab": {
      "name": "Corrected Code.ipynb",
      "provenance": [],
      "collapsed_sections": []
    },
    "kernelspec": {
      "name": "python3",
      "display_name": "Python 3"
    },
    "language_info": {
      "name": "python"
    }
  },
  "cells": [
    {
      "cell_type": "code",
      "execution_count": 11,
      "metadata": {
        "colab": {
          "base_uri": "https://localhost:8080/"
        },
        "id": "VzMEy02BRPFj",
        "outputId": "e61a204e-90e0-4a78-c659-92d317b82fab"
      },
      "outputs": [
        {
          "output_type": "stream",
          "name": "stdout",
          "text": [
            "9\n",
            "b is single digit odd number\n"
          ]
        }
      ],
      "source": [
        "b = int(input())\n",
        "c = b%2 # % is Modulus\n",
        "if c==1:\n",
        "    if b>10:\n",
        "        print(\"b is 2 digit odd number\")\n",
        "    else:\n",
        "        print(\"b is single digit odd number\")\n",
        "else:\n",
        "    print(\"even\")"
      ]
    },
    {
      "cell_type": "code",
      "source": [
        ""
      ],
      "metadata": {
        "id": "1lPBM57mSNrs"
      },
      "execution_count": null,
      "outputs": []
    }
  ]
}