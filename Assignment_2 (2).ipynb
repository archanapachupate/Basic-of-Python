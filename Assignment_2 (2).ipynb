{
  "nbformat": 4,
  "nbformat_minor": 0,
  "metadata": {
    "colab": {
      "name": "Assignment 2.ipynb",
      "provenance": [],
      "collapsed_sections": []
    },
    "kernelspec": {
      "name": "python3",
      "display_name": "Python 3"
    },
    "language_info": {
      "name": "python"
    }
  },
  "cells": [
    {
      "cell_type": "code",
      "execution_count": null,
      "metadata": {
        "id": "Iu7NQNBnrTh8"
      },
      "outputs": [],
      "source": [
        "##Name=Archana Pachupate\n",
        "##Roll No=9138\n"
      ]
    },
    {
      "cell_type": "code",
      "source": [
        "##Q1.Write a Python User Define Function to reverse a string\n",
        "\n",
        "##solution\n",
        "def rev(s):\n",
        "   string=''\n",
        "   for i in s:\n",
        "     string=i+string\n",
        "   return string\n",
        "\n",
        "print(rev('python'))"
      ],
      "metadata": {
        "colab": {
          "base_uri": "https://localhost:8080/"
        },
        "id": "khIHBjsAr_Yw",
        "outputId": "18d62fed-7496-479f-e119-ae82017e792c"
      },
      "execution_count": null,
      "outputs": [
        {
          "output_type": "stream",
          "name": "stdout",
          "text": [
            "nohtyp\n"
          ]
        }
      ]
    },
    {
      "cell_type": "code",
      "source": [
        "##Q2. Write a Python min_max function which will return Min, Max of 4 inputs from the user.\n",
        "\n",
        "##Solution\n",
        "def min_max(n):    ##Number of inputs\n",
        "\n",
        "  l=[]\n",
        "  for i in range(0,n):\n",
        "     num=int(input())\n",
        "     l.append(num)\n",
        "\n",
        "  maximum=max(l)   \n",
        "  minimum=min(l)\n",
        "\n",
        "  return(minimum,maximum)        ##returns the smallest and highest element of the output\n",
        "\n",
        "print(min_max(4))"
      ],
      "metadata": {
        "colab": {
          "base_uri": "https://localhost:8080/"
        },
        "id": "VNGv7LISuOfG",
        "outputId": "66f5c734-b34f-426d-c1a8-4ada72e71053"
      },
      "execution_count": null,
      "outputs": [
        {
          "output_type": "stream",
          "name": "stdout",
          "text": [
            "1\n",
            "3\n",
            "25\n",
            "43\n",
            "(1, 43)\n"
          ]
        }
      ]
    },
    {
      "cell_type": "code",
      "source": [
        "##Q3. Write a Python function to sum 4 inputs from the user.\n",
        "\n",
        "##Solution\n",
        "def sum(n):\n",
        "   l=[]\n",
        "   for i in range(0,n):\n",
        "     ele=int(input())\n",
        "     l.append(ele)\n",
        "   sum=0\n",
        "   for i in l:\n",
        "     sum=sum+i\n",
        "\n",
        "   return(sum)\n",
        "print(sum(4))\n"
      ],
      "metadata": {
        "id": "0PXH-x49sOqx",
        "colab": {
          "base_uri": "https://localhost:8080/"
        },
        "outputId": "31c09881-7f0b-487b-e181-96935d49e501"
      },
      "execution_count": null,
      "outputs": [
        {
          "output_type": "stream",
          "name": "stdout",
          "text": [
            "20\n",
            "10\n",
            "15\n",
            "30\n",
            "75\n"
          ]
        }
      ]
    },
    {
      "cell_type": "code",
      "source": [
        "##Q4. Find out the Command which will return you number of local variables from the user define function.\n",
        "\n",
        "##Solution\n",
        "##A function contain 4 variable\n",
        "def fun():\n",
        "  a,b,c= 1,4,2\n",
        "  str=\"google\"\n",
        "\n",
        "##A function contain no variable\n",
        "def python():\n",
        "  f\n",
        "# Driver program\n",
        "print(fun.__code__.co_nlocals)\n",
        "print(python.__code__.co_nlocals)"
      ],
      "metadata": {
        "colab": {
          "base_uri": "https://localhost:8080/"
        },
        "id": "fGdhz3eXyxQh",
        "outputId": "abd8ac8b-c1dc-44eb-c931-cba0f59d6d38"
      },
      "execution_count": null,
      "outputs": [
        {
          "output_type": "stream",
          "name": "stdout",
          "text": [
            "4\n",
            "0\n"
          ]
        }
      ]
    },
    {
      "cell_type": "code",
      "source": [
        "##Q5.Write Python Function to get even number from the list. List len must be equal to 8.\n",
        "\n",
        "##Solution\n",
        "list1 = [10, 21, 4, 45, 66, 93,56,25]\n",
        " \n",
        "for num in list1:\n",
        " \n",
        "    # checking condition\n",
        "    if num % 2 == 0:\n",
        "        print(num, end=\" \")"
      ],
      "metadata": {
        "colab": {
          "base_uri": "https://localhost:8080/"
        },
        "id": "hTmOKl7I1BO8",
        "outputId": "be389f3e-1cdd-4bb8-80bc-a42459b0e83f"
      },
      "execution_count": null,
      "outputs": [
        {
          "output_type": "stream",
          "name": "stdout",
          "text": [
            "10 4 66 56 "
          ]
        }
      ]
    }
  ]
}